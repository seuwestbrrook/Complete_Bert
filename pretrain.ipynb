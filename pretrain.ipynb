{
 "cells": [
  {
   "cell_type": "markdown",
   "id": "2ce758eb",
   "metadata": {},
   "source": [
    "BERT_Model Pretraining"
   ]
  },
  {
   "cell_type": "markdown",
   "id": "30bc3664",
   "metadata": {},
   "source": [
    "1、Set a toy data to train.As you know,here i just list an example,if you want to train formally,you can prepare superior dataset!"
   ]
  },
  {
   "cell_type": "code",
   "execution_count": 1,
   "id": "2427aa74",
   "metadata": {},
   "outputs": [],
   "source": [
    "toy_data = [\n",
    "    {\"text\": \"I love machine learning.\"},\n",
    "    {\"text\": \"It is a fascinating field.\"},\n",
    "    {\"text\": \"BERT is a type of transformer.\"},\n",
    "    {\"text\": \"Transformers are powerful models.\"},\n",
    "]"
   ]
  },
  {
   "cell_type": "markdown",
   "id": "0005e1f7",
   "metadata": {},
   "source": [
    "2、Then define a dataloader"
   ]
  },
  {
   "cell_type": "code",
   "execution_count": 2,
   "id": "01571cf9",
   "metadata": {},
   "outputs": [
    {
     "name": "stderr",
     "output_type": "stream",
     "text": [
      "f:\\toolbox\\python\\Lib\\site-packages\\tqdm\\auto.py:21: TqdmWarning: IProgress not found. Please update jupyter and ipywidgets. See https://ipywidgets.readthedocs.io/en/stable/user_install.html\n",
      "  from .autonotebook import tqdm as notebook_tqdm\n",
      "f:\\toolbox\\python\\Lib\\site-packages\\huggingface_hub\\file_download.py:943: FutureWarning: `resume_download` is deprecated and will be removed in version 1.0.0. Downloads always resume when possible. If you want to force a new download, use `force_download=True`.\n",
      "  warnings.warn(\n"
     ]
    }
   ],
   "source": [
    "from transformers import BertTokenizer\n",
    "from torch.utils.data import DataLoader\n",
    "from Datapreprocess import PretrainDataset, collate_fn\n",
    "\n",
    "\n",
    "\n",
    "tokenizer = BertTokenizer.from_pretrained(\"bert-base-uncased\")\n",
    "\n",
    "dataset = PretrainDataset(toy_data,tokenizer)\n",
    "\n",
    "from torch.utils.data import DataLoader\n",
    "\n",
    "dataloader = DataLoader(\n",
    "    dataset,\n",
    "    batch_size=2,\n",
    "    shuffle=True,\n",
    "    collate_fn=lambda batch: collate_fn(batch, pad_token_id=tokenizer.pad_token_id)\n",
    ")\n"
   ]
  },
  {
   "cell_type": "markdown",
   "id": "8aa0ec4f",
   "metadata": {},
   "source": [
    "3、Now need to load model"
   ]
  },
  {
   "cell_type": "code",
   "execution_count": 8,
   "id": "b1e724b6",
   "metadata": {},
   "outputs": [
    {
     "name": "stdout",
     "output_type": "stream",
     "text": [
      "Epoch 1, Loss: 0.7492763996124268\n",
      "\n",
      "样本1原句token: ['[CLS]', 'it', 'is', 'a', 'fascinating', 'field', '.', '[SEP]', 'bert', 'is', 'a', 'type', 'of', 'transform', '##er', '.', '[SEP]']\n",
      "被mask的真实token: ['[PAD]', '[PAD]', '[PAD]', '[PAD]', '[PAD]', '[PAD]', '[PAD]', '[PAD]', '[PAD]', '[PAD]', '[PAD]', '[PAD]', '[PAD]', '[PAD]', '[PAD]', '[PAD]', '[PAD]']\n",
      "模型预测token: ['statutes', 'nutrition', '[unused355]', 'logged', 'у', 'sums', 'postseason', 'associate', 'dreams', 'waved', 'sort', 'staircase', 'obtain', 'amnesty', 'verve', 'kelly', 'bedrock']\n",
      "\n",
      "样本2原句token: ['[CLS]', 'bert', 'is', 'a', 'type', 'of', 'transform', '##er', '.', '[SEP]', 'transformers', 'are', 'powerful', 'models', '.', '[SEP]', '[PAD]']\n",
      "被mask的真实token: ['[PAD]', '[PAD]', '[PAD]', '[PAD]', '[PAD]', '[PAD]', '[PAD]', '[PAD]', '[PAD]', '[PAD]', '[PAD]', '[PAD]', '[PAD]', '[PAD]', '[PAD]', '[PAD]', '[PAD]']\n",
      "模型预测token: ['statutes', 'nutrition', '[unused355]', 'logged', 'у', 'sums', 'postseason', 'associate', 'dreams', 'waved', 'sort', 'staircase', 'obtain', 'amnesty', 'verve', 'kelly', 'bedrock']\n",
      "NSP真实标签: tensor([1, 1])\n",
      "NSP预测: tensor([0, 0])\n",
      "Epoch 1, Loss: 0.8709549307823181\n",
      "\n",
      "样本1原句token: ['[CLS]', 'i', 'love', 'machine', 'learning', '.', '[SEP]', 'i', 'lace', '[MASK]', 'learning', '.', '[SEP]']\n",
      "被mask的真实token: ['[PAD]', '[PAD]', '[PAD]', '[PAD]', '[PAD]', '[PAD]', '[PAD]', '[PAD]', 'love', 'machine', '[PAD]', '[PAD]', '[PAD]']\n",
      "模型预测token: ['##icz', 'judgments', 'fission', '##tary', '##kis', 'towards', 'markets', 'past', 'institutions', 'colt', 'anime', 'sacrament', 'kata']\n",
      "NSP真实标签: tensor([0])\n",
      "NSP预测: tensor([1])\n",
      "Epoch 2, Loss: 0.5486342906951904\n",
      "Epoch 2, Loss: 0.47679445147514343\n",
      "Epoch 3, Loss: 0.45651382207870483\n",
      "Epoch 3, Loss: 1.057004451751709\n"
     ]
    }
   ],
   "source": [
    "from modules.bert import BertPretrainingModel\n",
    "import torch\n",
    "\n",
    "# Initialize the model\n",
    "model = BertPretrainingModel(\n",
    "    vocab_size=tokenizer.vocab_size,\n",
    "    type_vocab_size = 2,\n",
    "    hidden_size = 256,\n",
    "    max_len = 64,\n",
    "    num_layers = 2,\n",
    "    intermidiate_size=512,\n",
    "    num_attention_head = 8,\n",
    "    dropout = 0.1,\n",
    "    padding_idx=tokenizer.pad_token_id\n",
    ")\n",
    "\n",
    "optimizer = torch.optim.Adam(model.parameters(),lr = 1e-4)\n",
    "model.train()\n",
    "\n",
    "for epoch in range(3):\n",
    "    for batch_idx, batch in enumerate(dataloader):\n",
    "        optimizer.zero_grad()\n",
    "        output = model(\n",
    "            batch.input_ids,\n",
    "            batch.token_type_ids,\n",
    "            labels=batch.labels,\n",
    "            next_sentence_label=batch.is_next\n",
    "        )\n",
    "        loss = output[0]\n",
    "        loss.backward()\n",
    "        optimizer.step()\n",
    "        print(f\"Epoch {epoch + 1}, Loss: {loss.item()}\")\n",
    "\n",
    "        # 只打印前2个batch的mask和预测\n",
    "        if epoch == 0 and batch_idx < 2:\n",
    "            mask_pos = (batch.labels != -1)\n",
    "            # 1. 还原原始token序列\n",
    "            input_tokens = [tokenizer.convert_ids_to_tokens(ids) for ids in batch.input_ids]\n",
    "            # 2. 还原被mask的真实token\n",
    "            masked_ids = batch.labels[mask_pos]\n",
    "            masked_tokens = tokenizer.convert_ids_to_tokens(masked_ids.tolist())\n",
    "            # 3. 还原模型预测token\n",
    "            pred_ids = output[2].argmax(-1)[mask_pos]\n",
    "            pred_tokens = tokenizer.convert_ids_to_tokens(pred_ids.tolist())\n",
    "            # 4. 打印每个样本\n",
    "            for i in range(batch.input_ids.size(0)):\n",
    "                print(f\"\\n样本{i+1}原句token: {input_tokens[i]}\")\n",
    "                # 找到该样本的mask位置\n",
    "                sample_mask_pos = mask_pos[i]\n",
    "                sample_masked_tokens = [token for token, m in zip(masked_tokens, sample_mask_pos.tolist()) if m]\n",
    "                sample_pred_tokens = [token for token, m in zip(pred_tokens, sample_mask_pos.tolist()) if m]\n",
    "                print(\"被mask的真实token:\", sample_masked_tokens)\n",
    "                print(\"模型预测token:\", sample_pred_tokens)\n",
    "            print(\"NSP真实标签:\", batch.is_next)\n",
    "            print(\"NSP预测:\", output[3].argmax(-1))\n",
    "        "
   ]
  }
 ],
 "metadata": {
  "kernelspec": {
   "display_name": "Python 3",
   "language": "python",
   "name": "python3"
  },
  "language_info": {
   "codemirror_mode": {
    "name": "ipython",
    "version": 3
   },
   "file_extension": ".py",
   "mimetype": "text/x-python",
   "name": "python",
   "nbconvert_exporter": "python",
   "pygments_lexer": "ipython3",
   "version": "3.11.5"
  }
 },
 "nbformat": 4,
 "nbformat_minor": 5
}
